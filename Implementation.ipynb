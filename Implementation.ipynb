{
 "cells": [
  {
   "cell_type": "markdown",
   "metadata": {},
   "source": [
    "### 1. Import Libraries"
   ]
  },
  {
   "cell_type": "code",
   "execution_count": 94,
   "metadata": {},
   "outputs": [],
   "source": [
    "import pandas as pd\n",
    "import numpy as np\n",
    "import matplotlib.pyplot as plt\n",
    "import seaborn as sns\n",
    "\n",
    "from sklearn.preprocessing import LabelEncoder\n",
    "\n",
    "from sklearn.model_selection import train_test_split\n",
    "\n",
    "from sklearn.tree import DecisionTreeRegressor\n",
    "from sklearn.linear_model import LinearRegression\n",
    "from sklearn.ensemble import RandomForestRegressor\n",
    "from xgboost import XGBRegressor\n",
    "from sklearn.linear_model import Ridge\n",
    "from sklearn.ensemble import BaggingRegressor\n",
    "import tensorflow as tf\n",
    "from tensorflow import keras\n",
    "from sklearn.metrics import mean_absolute_error, mean_squared_error"
   ]
  },
  {
   "cell_type": "markdown",
   "metadata": {},
   "source": [
    "### 2. Read the file"
   ]
  },
  {
   "cell_type": "code",
   "execution_count": 95,
   "metadata": {},
   "outputs": [],
   "source": [
    "df=pd.read_csv(\"supermarket_sales.csv\")"
   ]
  },
  {
   "cell_type": "markdown",
   "metadata": {},
   "source": [
    "### 3. Data Preprocessing"
   ]
  },
  {
   "cell_type": "code",
   "execution_count": 96,
   "metadata": {},
   "outputs": [
    {
     "data": {
      "text/html": [
       "<div>\n",
       "<style scoped>\n",
       "    .dataframe tbody tr th:only-of-type {\n",
       "        vertical-align: middle;\n",
       "    }\n",
       "\n",
       "    .dataframe tbody tr th {\n",
       "        vertical-align: top;\n",
       "    }\n",
       "\n",
       "    .dataframe thead th {\n",
       "        text-align: right;\n",
       "    }\n",
       "</style>\n",
       "<table border=\"1\" class=\"dataframe\">\n",
       "  <thead>\n",
       "    <tr style=\"text-align: right;\">\n",
       "      <th></th>\n",
       "      <th>Branch</th>\n",
       "      <th>City</th>\n",
       "      <th>Customer type</th>\n",
       "      <th>Gender</th>\n",
       "      <th>Product line</th>\n",
       "      <th>Unit price</th>\n",
       "      <th>Quantity</th>\n",
       "      <th>Tax 5%</th>\n",
       "      <th>Total</th>\n",
       "      <th>Date</th>\n",
       "      <th>Time</th>\n",
       "      <th>Payment</th>\n",
       "      <th>cogs</th>\n",
       "      <th>gross margin percentage</th>\n",
       "      <th>gross income</th>\n",
       "      <th>Rating</th>\n",
       "    </tr>\n",
       "  </thead>\n",
       "  <tbody>\n",
       "    <tr>\n",
       "      <th>0</th>\n",
       "      <td>A</td>\n",
       "      <td>Yangon</td>\n",
       "      <td>Member</td>\n",
       "      <td>Female</td>\n",
       "      <td>Health and beauty</td>\n",
       "      <td>74.69</td>\n",
       "      <td>7</td>\n",
       "      <td>26.1415</td>\n",
       "      <td>548.9715</td>\n",
       "      <td>01-05-2019</td>\n",
       "      <td>13:08</td>\n",
       "      <td>Ewallet</td>\n",
       "      <td>522.83</td>\n",
       "      <td>4.761905</td>\n",
       "      <td>26.1415</td>\n",
       "      <td>9.1</td>\n",
       "    </tr>\n",
       "    <tr>\n",
       "      <th>1</th>\n",
       "      <td>C</td>\n",
       "      <td>Naypyitaw</td>\n",
       "      <td>Normal</td>\n",
       "      <td>Female</td>\n",
       "      <td>Electronic accessories</td>\n",
       "      <td>15.28</td>\n",
       "      <td>5</td>\n",
       "      <td>3.8200</td>\n",
       "      <td>80.2200</td>\n",
       "      <td>03-08-2019</td>\n",
       "      <td>10:29</td>\n",
       "      <td>Cash</td>\n",
       "      <td>76.40</td>\n",
       "      <td>4.761905</td>\n",
       "      <td>3.8200</td>\n",
       "      <td>9.6</td>\n",
       "    </tr>\n",
       "    <tr>\n",
       "      <th>2</th>\n",
       "      <td>A</td>\n",
       "      <td>Yangon</td>\n",
       "      <td>Normal</td>\n",
       "      <td>Male</td>\n",
       "      <td>Home and lifestyle</td>\n",
       "      <td>46.33</td>\n",
       "      <td>7</td>\n",
       "      <td>16.2155</td>\n",
       "      <td>340.5255</td>\n",
       "      <td>03-03-2019</td>\n",
       "      <td>13:23</td>\n",
       "      <td>Credit card</td>\n",
       "      <td>324.31</td>\n",
       "      <td>4.761905</td>\n",
       "      <td>16.2155</td>\n",
       "      <td>7.4</td>\n",
       "    </tr>\n",
       "    <tr>\n",
       "      <th>3</th>\n",
       "      <td>A</td>\n",
       "      <td>Yangon</td>\n",
       "      <td>Member</td>\n",
       "      <td>Male</td>\n",
       "      <td>Health and beauty</td>\n",
       "      <td>58.22</td>\n",
       "      <td>8</td>\n",
       "      <td>23.2880</td>\n",
       "      <td>489.0480</td>\n",
       "      <td>1/27/2019</td>\n",
       "      <td>20:33</td>\n",
       "      <td>Ewallet</td>\n",
       "      <td>465.76</td>\n",
       "      <td>4.761905</td>\n",
       "      <td>23.2880</td>\n",
       "      <td>8.4</td>\n",
       "    </tr>\n",
       "    <tr>\n",
       "      <th>4</th>\n",
       "      <td>A</td>\n",
       "      <td>Yangon</td>\n",
       "      <td>Normal</td>\n",
       "      <td>Male</td>\n",
       "      <td>Sports and travel</td>\n",
       "      <td>86.31</td>\n",
       "      <td>7</td>\n",
       "      <td>30.2085</td>\n",
       "      <td>634.3785</td>\n",
       "      <td>02-08-2019</td>\n",
       "      <td>10:37</td>\n",
       "      <td>Ewallet</td>\n",
       "      <td>604.17</td>\n",
       "      <td>4.761905</td>\n",
       "      <td>30.2085</td>\n",
       "      <td>5.3</td>\n",
       "    </tr>\n",
       "  </tbody>\n",
       "</table>\n",
       "</div>"
      ],
      "text/plain": [
       "  Branch       City Customer type  Gender            Product line  Unit price  \\\n",
       "0      A     Yangon        Member  Female       Health and beauty       74.69   \n",
       "1      C  Naypyitaw        Normal  Female  Electronic accessories       15.28   \n",
       "2      A     Yangon        Normal    Male      Home and lifestyle       46.33   \n",
       "3      A     Yangon        Member    Male       Health and beauty       58.22   \n",
       "4      A     Yangon        Normal    Male       Sports and travel       86.31   \n",
       "\n",
       "   Quantity   Tax 5%     Total        Date   Time      Payment    cogs  \\\n",
       "0         7  26.1415  548.9715  01-05-2019  13:08      Ewallet  522.83   \n",
       "1         5   3.8200   80.2200  03-08-2019  10:29         Cash   76.40   \n",
       "2         7  16.2155  340.5255  03-03-2019  13:23  Credit card  324.31   \n",
       "3         8  23.2880  489.0480   1/27/2019  20:33      Ewallet  465.76   \n",
       "4         7  30.2085  634.3785  02-08-2019  10:37      Ewallet  604.17   \n",
       "\n",
       "   gross margin percentage  gross income  Rating  \n",
       "0                 4.761905       26.1415     9.1  \n",
       "1                 4.761905        3.8200     9.6  \n",
       "2                 4.761905       16.2155     7.4  \n",
       "3                 4.761905       23.2880     8.4  \n",
       "4                 4.761905       30.2085     5.3  "
      ]
     },
     "execution_count": 96,
     "metadata": {},
     "output_type": "execute_result"
    }
   ],
   "source": [
    "df.head()"
   ]
  },
  {
   "cell_type": "code",
   "execution_count": 97,
   "metadata": {},
   "outputs": [
    {
     "name": "stdout",
     "output_type": "stream",
     "text": [
      "<class 'pandas.core.frame.DataFrame'>\n",
      "RangeIndex: 1000 entries, 0 to 999\n",
      "Data columns (total 16 columns):\n",
      " #   Column                   Non-Null Count  Dtype  \n",
      "---  ------                   --------------  -----  \n",
      " 0   Branch                   1000 non-null   object \n",
      " 1   City                     1000 non-null   object \n",
      " 2   Customer type            1000 non-null   object \n",
      " 3   Gender                   1000 non-null   object \n",
      " 4   Product line             1000 non-null   object \n",
      " 5   Unit price               1000 non-null   float64\n",
      " 6   Quantity                 1000 non-null   int64  \n",
      " 7   Tax 5%                   1000 non-null   float64\n",
      " 8   Total                    1000 non-null   float64\n",
      " 9   Date                     1000 non-null   object \n",
      " 10  Time                     1000 non-null   object \n",
      " 11  Payment                  1000 non-null   object \n",
      " 12  cogs                     1000 non-null   float64\n",
      " 13  gross margin percentage  1000 non-null   float64\n",
      " 14  gross income             1000 non-null   float64\n",
      " 15  Rating                   1000 non-null   float64\n",
      "dtypes: float64(7), int64(1), object(8)\n",
      "memory usage: 125.1+ KB\n"
     ]
    }
   ],
   "source": [
    "df.info()"
   ]
  },
  {
   "cell_type": "markdown",
   "metadata": {},
   "source": [
    "##### 3.1 Dropping few columns"
   ]
  },
  {
   "cell_type": "code",
   "execution_count": 98,
   "metadata": {},
   "outputs": [],
   "source": [
    "df=df.drop('Branch', axis=True)"
   ]
  },
  {
   "cell_type": "code",
   "execution_count": 99,
   "metadata": {},
   "outputs": [],
   "source": [
    "df=df.drop('Time', axis=True)"
   ]
  },
  {
   "cell_type": "code",
   "execution_count": 100,
   "metadata": {},
   "outputs": [
    {
     "name": "stdout",
     "output_type": "stream",
     "text": [
      "<class 'pandas.core.frame.DataFrame'>\n",
      "RangeIndex: 1000 entries, 0 to 999\n",
      "Data columns (total 14 columns):\n",
      " #   Column                   Non-Null Count  Dtype  \n",
      "---  ------                   --------------  -----  \n",
      " 0   City                     1000 non-null   object \n",
      " 1   Customer type            1000 non-null   object \n",
      " 2   Gender                   1000 non-null   object \n",
      " 3   Product line             1000 non-null   object \n",
      " 4   Unit price               1000 non-null   float64\n",
      " 5   Quantity                 1000 non-null   int64  \n",
      " 6   Tax 5%                   1000 non-null   float64\n",
      " 7   Total                    1000 non-null   float64\n",
      " 8   Date                     1000 non-null   object \n",
      " 9   Payment                  1000 non-null   object \n",
      " 10  cogs                     1000 non-null   float64\n",
      " 11  gross margin percentage  1000 non-null   float64\n",
      " 12  gross income             1000 non-null   float64\n",
      " 13  Rating                   1000 non-null   float64\n",
      "dtypes: float64(7), int64(1), object(6)\n",
      "memory usage: 109.5+ KB\n"
     ]
    }
   ],
   "source": [
    "df.info()"
   ]
  },
  {
   "cell_type": "markdown",
   "metadata": {},
   "source": [
    "##### 3.2 Converting date time values"
   ]
  },
  {
   "cell_type": "code",
   "execution_count": 101,
   "metadata": {},
   "outputs": [],
   "source": [
    "df['Date'] = pd.to_datetime(df['Date'], format='mixed')\n"
   ]
  },
  {
   "cell_type": "code",
   "execution_count": 102,
   "metadata": {},
   "outputs": [
    {
     "name": "stdout",
     "output_type": "stream",
     "text": [
      "<class 'pandas.core.frame.DataFrame'>\n",
      "RangeIndex: 1000 entries, 0 to 999\n",
      "Data columns (total 14 columns):\n",
      " #   Column                   Non-Null Count  Dtype         \n",
      "---  ------                   --------------  -----         \n",
      " 0   City                     1000 non-null   object        \n",
      " 1   Customer type            1000 non-null   object        \n",
      " 2   Gender                   1000 non-null   object        \n",
      " 3   Product line             1000 non-null   object        \n",
      " 4   Unit price               1000 non-null   float64       \n",
      " 5   Quantity                 1000 non-null   int64         \n",
      " 6   Tax 5%                   1000 non-null   float64       \n",
      " 7   Total                    1000 non-null   float64       \n",
      " 8   Date                     1000 non-null   datetime64[ns]\n",
      " 9   Payment                  1000 non-null   object        \n",
      " 10  cogs                     1000 non-null   float64       \n",
      " 11  gross margin percentage  1000 non-null   float64       \n",
      " 12  gross income             1000 non-null   float64       \n",
      " 13  Rating                   1000 non-null   float64       \n",
      "dtypes: datetime64[ns](1), float64(7), int64(1), object(5)\n",
      "memory usage: 109.5+ KB\n"
     ]
    }
   ],
   "source": [
    "df.info()"
   ]
  },
  {
   "cell_type": "markdown",
   "metadata": {},
   "source": [
    "##### 3.3 Check the  missing values"
   ]
  },
  {
   "cell_type": "code",
   "execution_count": 103,
   "metadata": {},
   "outputs": [
    {
     "data": {
      "text/plain": [
       "City                       0\n",
       "Customer type              0\n",
       "Gender                     0\n",
       "Product line               0\n",
       "Unit price                 0\n",
       "Quantity                   0\n",
       "Tax 5%                     0\n",
       "Total                      0\n",
       "Date                       0\n",
       "Payment                    0\n",
       "cogs                       0\n",
       "gross margin percentage    0\n",
       "gross income               0\n",
       "Rating                     0\n",
       "dtype: int64"
      ]
     },
     "execution_count": 103,
     "metadata": {},
     "output_type": "execute_result"
    }
   ],
   "source": [
    "df.isnull().sum()"
   ]
  },
  {
   "cell_type": "code",
   "execution_count": 104,
   "metadata": {},
   "outputs": [
    {
     "name": "stdout",
     "output_type": "stream",
     "text": [
      "<class 'pandas.core.frame.DataFrame'>\n",
      "RangeIndex: 1000 entries, 0 to 999\n",
      "Data columns (total 14 columns):\n",
      " #   Column                   Non-Null Count  Dtype         \n",
      "---  ------                   --------------  -----         \n",
      " 0   City                     1000 non-null   object        \n",
      " 1   Customer type            1000 non-null   object        \n",
      " 2   Gender                   1000 non-null   object        \n",
      " 3   Product line             1000 non-null   object        \n",
      " 4   Unit price               1000 non-null   float64       \n",
      " 5   Quantity                 1000 non-null   int64         \n",
      " 6   Tax 5%                   1000 non-null   float64       \n",
      " 7   Total                    1000 non-null   float64       \n",
      " 8   Date                     1000 non-null   datetime64[ns]\n",
      " 9   Payment                  1000 non-null   object        \n",
      " 10  cogs                     1000 non-null   float64       \n",
      " 11  gross margin percentage  1000 non-null   float64       \n",
      " 12  gross income             1000 non-null   float64       \n",
      " 13  Rating                   1000 non-null   float64       \n",
      "dtypes: datetime64[ns](1), float64(7), int64(1), object(5)\n",
      "memory usage: 109.5+ KB\n"
     ]
    }
   ],
   "source": [
    "df.info()"
   ]
  },
  {
   "cell_type": "markdown",
   "metadata": {},
   "source": [
    "##### 3.4 Encoding Categorical Columns"
   ]
  },
  {
   "cell_type": "code",
   "execution_count": 105,
   "metadata": {},
   "outputs": [
    {
     "data": {
      "text/html": [
       "<div>\n",
       "<style scoped>\n",
       "    .dataframe tbody tr th:only-of-type {\n",
       "        vertical-align: middle;\n",
       "    }\n",
       "\n",
       "    .dataframe tbody tr th {\n",
       "        vertical-align: top;\n",
       "    }\n",
       "\n",
       "    .dataframe thead th {\n",
       "        text-align: right;\n",
       "    }\n",
       "</style>\n",
       "<table border=\"1\" class=\"dataframe\">\n",
       "  <thead>\n",
       "    <tr style=\"text-align: right;\">\n",
       "      <th></th>\n",
       "      <th>City</th>\n",
       "      <th>Customer type</th>\n",
       "      <th>Gender</th>\n",
       "      <th>Product line</th>\n",
       "      <th>Unit price</th>\n",
       "      <th>Quantity</th>\n",
       "      <th>Tax 5%</th>\n",
       "      <th>Total</th>\n",
       "      <th>Date</th>\n",
       "      <th>Payment</th>\n",
       "      <th>cogs</th>\n",
       "      <th>gross margin percentage</th>\n",
       "      <th>gross income</th>\n",
       "      <th>Rating</th>\n",
       "    </tr>\n",
       "  </thead>\n",
       "  <tbody>\n",
       "    <tr>\n",
       "      <th>0</th>\n",
       "      <td>2</td>\n",
       "      <td>0</td>\n",
       "      <td>0</td>\n",
       "      <td>3</td>\n",
       "      <td>74.69</td>\n",
       "      <td>7</td>\n",
       "      <td>26.1415</td>\n",
       "      <td>548.9715</td>\n",
       "      <td>2019-01-05</td>\n",
       "      <td>2</td>\n",
       "      <td>522.83</td>\n",
       "      <td>4.761905</td>\n",
       "      <td>26.1415</td>\n",
       "      <td>9.1</td>\n",
       "    </tr>\n",
       "    <tr>\n",
       "      <th>1</th>\n",
       "      <td>1</td>\n",
       "      <td>1</td>\n",
       "      <td>0</td>\n",
       "      <td>0</td>\n",
       "      <td>15.28</td>\n",
       "      <td>5</td>\n",
       "      <td>3.8200</td>\n",
       "      <td>80.2200</td>\n",
       "      <td>2019-03-08</td>\n",
       "      <td>0</td>\n",
       "      <td>76.40</td>\n",
       "      <td>4.761905</td>\n",
       "      <td>3.8200</td>\n",
       "      <td>9.6</td>\n",
       "    </tr>\n",
       "    <tr>\n",
       "      <th>2</th>\n",
       "      <td>2</td>\n",
       "      <td>1</td>\n",
       "      <td>1</td>\n",
       "      <td>4</td>\n",
       "      <td>46.33</td>\n",
       "      <td>7</td>\n",
       "      <td>16.2155</td>\n",
       "      <td>340.5255</td>\n",
       "      <td>2019-03-03</td>\n",
       "      <td>1</td>\n",
       "      <td>324.31</td>\n",
       "      <td>4.761905</td>\n",
       "      <td>16.2155</td>\n",
       "      <td>7.4</td>\n",
       "    </tr>\n",
       "    <tr>\n",
       "      <th>3</th>\n",
       "      <td>2</td>\n",
       "      <td>0</td>\n",
       "      <td>1</td>\n",
       "      <td>3</td>\n",
       "      <td>58.22</td>\n",
       "      <td>8</td>\n",
       "      <td>23.2880</td>\n",
       "      <td>489.0480</td>\n",
       "      <td>2019-01-27</td>\n",
       "      <td>2</td>\n",
       "      <td>465.76</td>\n",
       "      <td>4.761905</td>\n",
       "      <td>23.2880</td>\n",
       "      <td>8.4</td>\n",
       "    </tr>\n",
       "    <tr>\n",
       "      <th>4</th>\n",
       "      <td>2</td>\n",
       "      <td>1</td>\n",
       "      <td>1</td>\n",
       "      <td>5</td>\n",
       "      <td>86.31</td>\n",
       "      <td>7</td>\n",
       "      <td>30.2085</td>\n",
       "      <td>634.3785</td>\n",
       "      <td>2019-02-08</td>\n",
       "      <td>2</td>\n",
       "      <td>604.17</td>\n",
       "      <td>4.761905</td>\n",
       "      <td>30.2085</td>\n",
       "      <td>5.3</td>\n",
       "    </tr>\n",
       "    <tr>\n",
       "      <th>...</th>\n",
       "      <td>...</td>\n",
       "      <td>...</td>\n",
       "      <td>...</td>\n",
       "      <td>...</td>\n",
       "      <td>...</td>\n",
       "      <td>...</td>\n",
       "      <td>...</td>\n",
       "      <td>...</td>\n",
       "      <td>...</td>\n",
       "      <td>...</td>\n",
       "      <td>...</td>\n",
       "      <td>...</td>\n",
       "      <td>...</td>\n",
       "      <td>...</td>\n",
       "    </tr>\n",
       "    <tr>\n",
       "      <th>995</th>\n",
       "      <td>1</td>\n",
       "      <td>1</td>\n",
       "      <td>1</td>\n",
       "      <td>3</td>\n",
       "      <td>40.35</td>\n",
       "      <td>1</td>\n",
       "      <td>2.0175</td>\n",
       "      <td>42.3675</td>\n",
       "      <td>2019-01-29</td>\n",
       "      <td>2</td>\n",
       "      <td>40.35</td>\n",
       "      <td>4.761905</td>\n",
       "      <td>2.0175</td>\n",
       "      <td>6.2</td>\n",
       "    </tr>\n",
       "    <tr>\n",
       "      <th>996</th>\n",
       "      <td>0</td>\n",
       "      <td>1</td>\n",
       "      <td>0</td>\n",
       "      <td>4</td>\n",
       "      <td>97.38</td>\n",
       "      <td>10</td>\n",
       "      <td>48.6900</td>\n",
       "      <td>1022.4900</td>\n",
       "      <td>2019-03-02</td>\n",
       "      <td>2</td>\n",
       "      <td>973.80</td>\n",
       "      <td>4.761905</td>\n",
       "      <td>48.6900</td>\n",
       "      <td>4.4</td>\n",
       "    </tr>\n",
       "    <tr>\n",
       "      <th>997</th>\n",
       "      <td>2</td>\n",
       "      <td>0</td>\n",
       "      <td>1</td>\n",
       "      <td>2</td>\n",
       "      <td>31.84</td>\n",
       "      <td>1</td>\n",
       "      <td>1.5920</td>\n",
       "      <td>33.4320</td>\n",
       "      <td>2019-02-09</td>\n",
       "      <td>0</td>\n",
       "      <td>31.84</td>\n",
       "      <td>4.761905</td>\n",
       "      <td>1.5920</td>\n",
       "      <td>7.7</td>\n",
       "    </tr>\n",
       "    <tr>\n",
       "      <th>998</th>\n",
       "      <td>2</td>\n",
       "      <td>1</td>\n",
       "      <td>1</td>\n",
       "      <td>4</td>\n",
       "      <td>65.82</td>\n",
       "      <td>1</td>\n",
       "      <td>3.2910</td>\n",
       "      <td>69.1110</td>\n",
       "      <td>2019-02-22</td>\n",
       "      <td>0</td>\n",
       "      <td>65.82</td>\n",
       "      <td>4.761905</td>\n",
       "      <td>3.2910</td>\n",
       "      <td>4.1</td>\n",
       "    </tr>\n",
       "    <tr>\n",
       "      <th>999</th>\n",
       "      <td>2</td>\n",
       "      <td>0</td>\n",
       "      <td>0</td>\n",
       "      <td>1</td>\n",
       "      <td>88.34</td>\n",
       "      <td>7</td>\n",
       "      <td>30.9190</td>\n",
       "      <td>649.2990</td>\n",
       "      <td>2019-02-18</td>\n",
       "      <td>0</td>\n",
       "      <td>618.38</td>\n",
       "      <td>4.761905</td>\n",
       "      <td>30.9190</td>\n",
       "      <td>6.6</td>\n",
       "    </tr>\n",
       "  </tbody>\n",
       "</table>\n",
       "<p>1000 rows × 14 columns</p>\n",
       "</div>"
      ],
      "text/plain": [
       "     City  Customer type  Gender  Product line  Unit price  Quantity   Tax 5%  \\\n",
       "0       2              0       0             3       74.69         7  26.1415   \n",
       "1       1              1       0             0       15.28         5   3.8200   \n",
       "2       2              1       1             4       46.33         7  16.2155   \n",
       "3       2              0       1             3       58.22         8  23.2880   \n",
       "4       2              1       1             5       86.31         7  30.2085   \n",
       "..    ...            ...     ...           ...         ...       ...      ...   \n",
       "995     1              1       1             3       40.35         1   2.0175   \n",
       "996     0              1       0             4       97.38        10  48.6900   \n",
       "997     2              0       1             2       31.84         1   1.5920   \n",
       "998     2              1       1             4       65.82         1   3.2910   \n",
       "999     2              0       0             1       88.34         7  30.9190   \n",
       "\n",
       "         Total       Date  Payment    cogs  gross margin percentage  \\\n",
       "0     548.9715 2019-01-05        2  522.83                 4.761905   \n",
       "1      80.2200 2019-03-08        0   76.40                 4.761905   \n",
       "2     340.5255 2019-03-03        1  324.31                 4.761905   \n",
       "3     489.0480 2019-01-27        2  465.76                 4.761905   \n",
       "4     634.3785 2019-02-08        2  604.17                 4.761905   \n",
       "..         ...        ...      ...     ...                      ...   \n",
       "995    42.3675 2019-01-29        2   40.35                 4.761905   \n",
       "996  1022.4900 2019-03-02        2  973.80                 4.761905   \n",
       "997    33.4320 2019-02-09        0   31.84                 4.761905   \n",
       "998    69.1110 2019-02-22        0   65.82                 4.761905   \n",
       "999   649.2990 2019-02-18        0  618.38                 4.761905   \n",
       "\n",
       "     gross income  Rating  \n",
       "0         26.1415     9.1  \n",
       "1          3.8200     9.6  \n",
       "2         16.2155     7.4  \n",
       "3         23.2880     8.4  \n",
       "4         30.2085     5.3  \n",
       "..            ...     ...  \n",
       "995        2.0175     6.2  \n",
       "996       48.6900     4.4  \n",
       "997        1.5920     7.7  \n",
       "998        3.2910     4.1  \n",
       "999       30.9190     6.6  \n",
       "\n",
       "[1000 rows x 14 columns]"
      ]
     },
     "execution_count": 105,
     "metadata": {},
     "output_type": "execute_result"
    }
   ],
   "source": [
    "le=LabelEncoder()\n",
    "df[\"City\"]=le.fit_transform(df[\"City\"])\n",
    "df[\"Customer type\"]=le.fit_transform(df[\"Customer type\"])\n",
    "df[\"Gender\"]=le.fit_transform(df[\"Gender\"])\n",
    "df[\"Product line\"]=le.fit_transform(df[\"Product line\"])\n",
    "df[\"Payment\"]=le.fit_transform(df[\"Payment\"])\n",
    "df"
   ]
  },
  {
   "cell_type": "markdown",
   "metadata": {},
   "source": [
    "##### 3.5 Outlier Detection"
   ]
  },
  {
   "cell_type": "code",
   "execution_count": 106,
   "metadata": {},
   "outputs": [
    {
     "data": {
      "image/png": "[encoded data removed]",
      "text/plain": [
       "<Figure size 1000x800 with 1 Axes>"
      ]
     },
     "metadata": {},
     "output_type": "display_data"
    }
   ],
   "source": [
    "plt.figure(figsize=(10,8))\n",
    "sns.boxplot(data=df, width=0.5)\n",
    "plt.title('Box Plot Example')\n",
    "plt.xlabel('Features')\n",
    "plt.ylabel('Values')\n",
    "plt.xticks(rotation=90)\n",
    "plt.show()"
   ]
  },
  {
   "cell_type": "code",
   "execution_count": 107,
   "metadata": {},
   "outputs": [
    {
     "data": {
      "image/png": "[encoded data removed]",
      "text/plain": [
       "<Figure size 640x480 with 1 Axes>"
      ]
     },
     "metadata": {},
     "output_type": "display_data"
    }
   ],
   "source": [
    "sns.boxplot(data=df['Tax 5%'], width=0.5)\n",
    "plt.title('Box Plot Example')\n",
    "plt.xlabel('Features')\n",
    "plt.ylabel('Values')\n",
    "plt.show()"
   ]
  },
  {
   "cell_type": "code",
   "execution_count": 108,
   "metadata": {},
   "outputs": [],
   "source": [
    "df['Tax 5%'] = np.sqrt(df['Tax 5%'])"
   ]
  },
  {
   "cell_type": "code",
   "execution_count": 109,
   "metadata": {},
   "outputs": [
    {
     "data": {
      "image/png": "[encoded data removed]",
      "text/plain": [
       "<Figure size 640x480 with 1 Axes>"
      ]
     },
     "metadata": {},
     "output_type": "display_data"
    }
   ],
   "source": [
    "sns.boxplot(data=df['Tax 5%'], width=0.5)\n",
    "plt.title('Box Plot Example')\n",
    "plt.xlabel('Features')\n",
    "plt.ylabel('Values')\n",
    "plt.show()"
   ]
  },
  {
   "cell_type": "code",
   "execution_count": 110,
   "metadata": {},
   "outputs": [
    {
     "data": {
      "image/png": "[encoded data removed]",
      "text/plain": [
       "<Figure size 640x480 with 1 Axes>"
      ]
     },
     "metadata": {},
     "output_type": "display_data"
    }
   ],
   "source": [
    "sns.boxplot(data=df['Total'], width=0.5)\n",
    "plt.title('Box Plot Example')\n",
    "plt.xlabel('Features')\n",
    "plt.ylabel('Values')\n",
    "plt.show()"
   ]
  },
  {
   "cell_type": "code",
   "execution_count": 111,
   "metadata": {},
   "outputs": [],
   "source": [
    "df['Total'] = np.sqrt(df['Total'])"
   ]
  },
  {
   "cell_type": "code",
   "execution_count": 112,
   "metadata": {},
   "outputs": [
    {
     "data": {
      "image/png": "[encoded data removed]",
      "text/plain": [
       "<Figure size 640x480 with 1 Axes>"
      ]
     },
     "metadata": {},
     "output_type": "display_data"
    }
   ],
   "source": [
    "sns.boxplot(data=df['Total'], width=0.5)\n",
    "plt.title('Box Plot Example')\n",
    "plt.xlabel('Features')\n",
    "plt.ylabel('Values')\n",
    "plt.show()"
   ]
  },
  {
   "cell_type": "code",
   "execution_count": 113,
   "metadata": {},
   "outputs": [
    {
     "data": {
      "image/png": "[encoded data removed]",
      "text/plain": [
       "<Figure size 640x480 with 1 Axes>"
      ]
     },
     "metadata": {},
     "output_type": "display_data"
    }
   ],
   "source": [
    "sns.boxplot(data=df['cogs'], width=0.5)\n",
    "plt.title('Box Plot Example')\n",
    "plt.xlabel('Features')\n",
    "plt.ylabel('Values')\n",
    "plt.show()"
   ]
  },
  {
   "cell_type": "code",
   "execution_count": 114,
   "metadata": {},
   "outputs": [],
   "source": [
    "df['cogs'] = np.sqrt(df['cogs'])"
   ]
  },
  {
   "cell_type": "code",
   "execution_count": 115,
   "metadata": {},
   "outputs": [
    {
     "data": {
      "image/png": "[encoded data removed]",
      "text/plain": [
       "<Figure size 640x480 with 1 Axes>"
      ]
     },
     "metadata": {},
     "output_type": "display_data"
    }
   ],
   "source": [
    "sns.boxplot(data=df['cogs'], width=0.5)\n",
    "plt.title('Box Plot Example')\n",
    "plt.xlabel('Features')\n",
    "plt.ylabel('Values')\n",
    "plt.show()"
   ]
  },
  {
   "cell_type": "code",
   "execution_count": 116,
   "metadata": {},
   "outputs": [],
   "source": [
    "df['gross income'] = np.sqrt(df['gross income'])"
   ]
  },
  {
   "cell_type": "code",
   "execution_count": 117,
   "metadata": {},
   "outputs": [
    {
     "data": {
      "image/png": "[encoded data removed]",
      "text/plain": [
       "<Figure size 640x480 with 1 Axes>"
      ]
     },
     "metadata": {},
     "output_type": "display_data"
    }
   ],
   "source": [
    "sns.boxplot(data=df['gross income'], width=0.5)\n",
    "plt.title('Box Plot Example')\n",
    "plt.xlabel('Features')\n",
    "plt.ylabel('Values')\n",
    "plt.show()"
   ]
  },
  {
   "cell_type": "code",
   "execution_count": 118,
   "metadata": {},
   "outputs": [],
   "source": [
    "df['Rating'] = np.sqrt(df['Rating'])"
   ]
  },
  {
   "cell_type": "code",
   "execution_count": 119,
   "metadata": {},
   "outputs": [
    {
     "data": {
      "image/png": "[encoded data removed]",
      "text/plain": [
       "<Figure size 640x480 with 1 Axes>"
      ]
     },
     "metadata": {},
     "output_type": "display_data"
    }
   ],
   "source": [
    "sns.boxplot(data=df['Rating'], width=0.5)\n",
    "plt.title('Box Plot Example')\n",
    "plt.xlabel('Features')\n",
    "plt.ylabel('Values')\n",
    "plt.show()"
   ]
  },
  {
   "cell_type": "code",
   "execution_count": 120,
   "metadata": {},
   "outputs": [
    {
     "name": "stdout",
     "output_type": "stream",
     "text": [
      "<class 'pandas.core.frame.DataFrame'>\n",
      "RangeIndex: 1000 entries, 0 to 999\n",
      "Data columns (total 14 columns):\n",
      " #   Column                   Non-Null Count  Dtype         \n",
      "---  ------                   --------------  -----         \n",
      " 0   City                     1000 non-null   int32         \n",
      " 1   Customer type            1000 non-null   int32         \n",
      " 2   Gender                   1000 non-null   int32         \n",
      " 3   Product line             1000 non-null   int32         \n",
      " 4   Unit price               1000 non-null   float64       \n",
      " 5   Quantity                 1000 non-null   int64         \n",
      " 6   Tax 5%                   1000 non-null   float64       \n",
      " 7   Total                    1000 non-null   float64       \n",
      " 8   Date                     1000 non-null   datetime64[ns]\n",
      " 9   Payment                  1000 non-null   int32         \n",
      " 10  cogs                     1000 non-null   float64       \n",
      " 11  gross margin percentage  1000 non-null   float64       \n",
      " 12  gross income             1000 non-null   float64       \n",
      " 13  Rating                   1000 non-null   float64       \n",
      "dtypes: datetime64[ns](1), float64(7), int32(5), int64(1)\n",
      "memory usage: 90.0 KB\n"
     ]
    }
   ],
   "source": [
    "df.info()"
   ]
  },
  {
   "cell_type": "code",
   "execution_count": 121,
   "metadata": {},
   "outputs": [
    {
     "data": {
      "text/html": [
       "<div>\n",
       "<style scoped>\n",
       "    .dataframe tbody tr th:only-of-type {\n",
       "        vertical-align: middle;\n",
       "    }\n",
       "\n",
       "    .dataframe tbody tr th {\n",
       "        vertical-align: top;\n",
       "    }\n",
       "\n",
       "    .dataframe thead th {\n",
       "        text-align: right;\n",
       "    }\n",
       "</style>\n",
       "<table border=\"1\" class=\"dataframe\">\n",
       "  <thead>\n",
       "    <tr style=\"text-align: right;\">\n",
       "      <th></th>\n",
       "      <th>City</th>\n",
       "      <th>Customer type</th>\n",
       "      <th>Gender</th>\n",
       "      <th>Product line</th>\n",
       "      <th>Unit price</th>\n",
       "      <th>Quantity</th>\n",
       "      <th>Tax 5%</th>\n",
       "      <th>Total</th>\n",
       "      <th>Payment</th>\n",
       "      <th>cogs</th>\n",
       "      <th>gross margin percentage</th>\n",
       "      <th>gross income</th>\n",
       "      <th>Rating</th>\n",
       "    </tr>\n",
       "  </thead>\n",
       "  <tbody>\n",
       "    <tr>\n",
       "      <th>0</th>\n",
       "      <td>2</td>\n",
       "      <td>0</td>\n",
       "      <td>0</td>\n",
       "      <td>3</td>\n",
       "      <td>74.69</td>\n",
       "      <td>7</td>\n",
       "      <td>5.112876</td>\n",
       "      <td>23.430141</td>\n",
       "      <td>2</td>\n",
       "      <td>22.865476</td>\n",
       "      <td>4.761905</td>\n",
       "      <td>5.112876</td>\n",
       "      <td>3.016621</td>\n",
       "    </tr>\n",
       "    <tr>\n",
       "      <th>1</th>\n",
       "      <td>1</td>\n",
       "      <td>1</td>\n",
       "      <td>0</td>\n",
       "      <td>0</td>\n",
       "      <td>15.28</td>\n",
       "      <td>5</td>\n",
       "      <td>1.954482</td>\n",
       "      <td>8.956562</td>\n",
       "      <td>0</td>\n",
       "      <td>8.740709</td>\n",
       "      <td>4.761905</td>\n",
       "      <td>1.954482</td>\n",
       "      <td>3.098387</td>\n",
       "    </tr>\n",
       "    <tr>\n",
       "      <th>2</th>\n",
       "      <td>2</td>\n",
       "      <td>1</td>\n",
       "      <td>1</td>\n",
       "      <td>4</td>\n",
       "      <td>46.33</td>\n",
       "      <td>7</td>\n",
       "      <td>4.026847</td>\n",
       "      <td>18.453333</td>\n",
       "      <td>1</td>\n",
       "      <td>18.008609</td>\n",
       "      <td>4.761905</td>\n",
       "      <td>4.026847</td>\n",
       "      <td>2.720294</td>\n",
       "    </tr>\n",
       "    <tr>\n",
       "      <th>3</th>\n",
       "      <td>2</td>\n",
       "      <td>0</td>\n",
       "      <td>1</td>\n",
       "      <td>3</td>\n",
       "      <td>58.22</td>\n",
       "      <td>8</td>\n",
       "      <td>4.825764</td>\n",
       "      <td>22.114430</td>\n",
       "      <td>2</td>\n",
       "      <td>21.581474</td>\n",
       "      <td>4.761905</td>\n",
       "      <td>4.825764</td>\n",
       "      <td>2.898275</td>\n",
       "    </tr>\n",
       "    <tr>\n",
       "      <th>4</th>\n",
       "      <td>2</td>\n",
       "      <td>1</td>\n",
       "      <td>1</td>\n",
       "      <td>5</td>\n",
       "      <td>86.31</td>\n",
       "      <td>7</td>\n",
       "      <td>5.496226</td>\n",
       "      <td>25.186872</td>\n",
       "      <td>2</td>\n",
       "      <td>24.579870</td>\n",
       "      <td>4.761905</td>\n",
       "      <td>5.496226</td>\n",
       "      <td>2.302173</td>\n",
       "    </tr>\n",
       "    <tr>\n",
       "      <th>...</th>\n",
       "      <td>...</td>\n",
       "      <td>...</td>\n",
       "      <td>...</td>\n",
       "      <td>...</td>\n",
       "      <td>...</td>\n",
       "      <td>...</td>\n",
       "      <td>...</td>\n",
       "      <td>...</td>\n",
       "      <td>...</td>\n",
       "      <td>...</td>\n",
       "      <td>...</td>\n",
       "      <td>...</td>\n",
       "      <td>...</td>\n",
       "    </tr>\n",
       "    <tr>\n",
       "      <th>995</th>\n",
       "      <td>1</td>\n",
       "      <td>1</td>\n",
       "      <td>1</td>\n",
       "      <td>3</td>\n",
       "      <td>40.35</td>\n",
       "      <td>1</td>\n",
       "      <td>1.420387</td>\n",
       "      <td>6.509032</td>\n",
       "      <td>2</td>\n",
       "      <td>6.352165</td>\n",
       "      <td>4.761905</td>\n",
       "      <td>1.420387</td>\n",
       "      <td>2.489980</td>\n",
       "    </tr>\n",
       "    <tr>\n",
       "      <th>996</th>\n",
       "      <td>0</td>\n",
       "      <td>1</td>\n",
       "      <td>0</td>\n",
       "      <td>4</td>\n",
       "      <td>97.38</td>\n",
       "      <td>10</td>\n",
       "      <td>6.977822</td>\n",
       "      <td>31.976398</td>\n",
       "      <td>2</td>\n",
       "      <td>31.205769</td>\n",
       "      <td>4.761905</td>\n",
       "      <td>6.977822</td>\n",
       "      <td>2.097618</td>\n",
       "    </tr>\n",
       "    <tr>\n",
       "      <th>997</th>\n",
       "      <td>2</td>\n",
       "      <td>0</td>\n",
       "      <td>1</td>\n",
       "      <td>2</td>\n",
       "      <td>31.84</td>\n",
       "      <td>1</td>\n",
       "      <td>1.261745</td>\n",
       "      <td>5.782041</td>\n",
       "      <td>0</td>\n",
       "      <td>5.642694</td>\n",
       "      <td>4.761905</td>\n",
       "      <td>1.261745</td>\n",
       "      <td>2.774887</td>\n",
       "    </tr>\n",
       "    <tr>\n",
       "      <th>998</th>\n",
       "      <td>2</td>\n",
       "      <td>1</td>\n",
       "      <td>1</td>\n",
       "      <td>4</td>\n",
       "      <td>65.82</td>\n",
       "      <td>1</td>\n",
       "      <td>1.814111</td>\n",
       "      <td>8.313303</td>\n",
       "      <td>0</td>\n",
       "      <td>8.112953</td>\n",
       "      <td>4.761905</td>\n",
       "      <td>1.814111</td>\n",
       "      <td>2.024846</td>\n",
       "    </tr>\n",
       "    <tr>\n",
       "      <th>999</th>\n",
       "      <td>2</td>\n",
       "      <td>0</td>\n",
       "      <td>0</td>\n",
       "      <td>1</td>\n",
       "      <td>88.34</td>\n",
       "      <td>7</td>\n",
       "      <td>5.560486</td>\n",
       "      <td>25.481346</td>\n",
       "      <td>0</td>\n",
       "      <td>24.867248</td>\n",
       "      <td>4.761905</td>\n",
       "      <td>5.560486</td>\n",
       "      <td>2.569047</td>\n",
       "    </tr>\n",
       "  </tbody>\n",
       "</table>\n",
       "<p>1000 rows × 13 columns</p>\n",
       "</div>"
      ],
      "text/plain": [
       "     City  Customer type  Gender  Product line  Unit price  Quantity  \\\n",
       "0       2              0       0             3       74.69         7   \n",
       "1       1              1       0             0       15.28         5   \n",
       "2       2              1       1             4       46.33         7   \n",
       "3       2              0       1             3       58.22         8   \n",
       "4       2              1       1             5       86.31         7   \n",
       "..    ...            ...     ...           ...         ...       ...   \n",
       "995     1              1       1             3       40.35         1   \n",
       "996     0              1       0             4       97.38        10   \n",
       "997     2              0       1             2       31.84         1   \n",
       "998     2              1       1             4       65.82         1   \n",
       "999     2              0       0             1       88.34         7   \n",
       "\n",
       "       Tax 5%      Total  Payment       cogs  gross margin percentage  \\\n",
       "0    5.112876  23.430141        2  22.865476                 4.761905   \n",
       "1    1.954482   8.956562        0   8.740709                 4.761905   \n",
       "2    4.026847  18.453333        1  18.008609                 4.761905   \n",
       "3    4.825764  22.114430        2  21.581474                 4.761905   \n",
       "4    5.496226  25.186872        2  24.579870                 4.761905   \n",
       "..        ...        ...      ...        ...                      ...   \n",
       "995  1.420387   6.509032        2   6.352165                 4.761905   \n",
       "996  6.977822  31.976398        2  31.205769                 4.761905   \n",
       "997  1.261745   5.782041        0   5.642694                 4.761905   \n",
       "998  1.814111   8.313303        0   8.112953                 4.761905   \n",
       "999  5.560486  25.481346        0  24.867248                 4.761905   \n",
       "\n",
       "     gross income    Rating  \n",
       "0        5.112876  3.016621  \n",
       "1        1.954482  3.098387  \n",
       "2        4.026847  2.720294  \n",
       "3        4.825764  2.898275  \n",
       "4        5.496226  2.302173  \n",
       "..            ...       ...  \n",
       "995      1.420387  2.489980  \n",
       "996      6.977822  2.097618  \n",
       "997      1.261745  2.774887  \n",
       "998      1.814111  2.024846  \n",
       "999      5.560486  2.569047  \n",
       "\n",
       "[1000 rows x 13 columns]"
      ]
     },
     "execution_count": 121,
     "metadata": {},
     "output_type": "execute_result"
    }
   ],
   "source": [
    "df = df.drop(['Date'], axis=1)\n",
    "df"
   ]
  },
  {
   "cell_type": "markdown",
   "metadata": {},
   "source": [
    "### 4. Model building"
   ]
  },
  {
   "cell_type": "code",
   "execution_count": 122,
   "metadata": {},
   "outputs": [],
   "source": [
    "X=df.drop(['Rating'], axis=1)\n",
    "y=df.Rating\n",
    "\n",
    "x_train,x_test,y_train,y_test=train_test_split(X,y,test_size=0.3, random_state=42)"
   ]
  },
  {
   "cell_type": "markdown",
   "metadata": {},
   "source": [
    "##### 4.1 Decision Tree Regressor"
   ]
  },
  {
   "cell_type": "code",
   "execution_count": 123,
   "metadata": {},
   "outputs": [
    {
     "name": "stdout",
     "output_type": "stream",
     "text": [
      "Mean Absolute Error: 0.41\n",
      "Mean Squared Error: 0.24\n"
     ]
    }
   ],
   "source": [
    "dtr = DecisionTreeRegressor()\n",
    "dtr.fit(x_train, y_train)\n",
    "\n",
    "y_pred=dtr.predict(x_test)\n",
    "y_pred\n",
    "mae = mean_absolute_error(y_test, y_pred)\n",
    "mse = mean_squared_error(y_test, y_pred)\n",
    "print(f'Mean Absolute Error: {mae:.2f}')\n",
    "print(f'Mean Squared Error: {mse:.2f}')\n"
   ]
  },
  {
   "cell_type": "markdown",
   "metadata": {},
   "source": [
    "##### 4.2 Linear Regression"
   ]
  },
  {
   "cell_type": "code",
   "execution_count": 124,
   "metadata": {},
   "outputs": [
    {
     "name": "stdout",
     "output_type": "stream",
     "text": [
      "Mean Absolute Error: 0.29\n",
      "Mean Squared Error: 0.11\n"
     ]
    }
   ],
   "source": [
    "l1 = LinearRegression()\n",
    "l1.fit(x_train, y_train)\n",
    "\n",
    "y_pred=l1.predict(x_test)\n",
    "y_pred\n",
    "mae = mean_absolute_error(y_test, y_pred)\n",
    "mse = mean_squared_error(y_test, y_pred)\n",
    "print(f'Mean Absolute Error: {mae:.2f}')\n",
    "print(f'Mean Squared Error: {mse:.2f}')"
   ]
  },
  {
   "cell_type": "markdown",
   "metadata": {},
   "source": [
    "##### 4.3 Random Forest Regressor"
   ]
  },
  {
   "cell_type": "code",
   "execution_count": 125,
   "metadata": {},
   "outputs": [
    {
     "name": "stdout",
     "output_type": "stream",
     "text": [
      "Mean Absolute Error: 0.30\n",
      "Mean Squared Error: 0.13\n"
     ]
    }
   ],
   "source": [
    "rfr = RandomForestRegressor(n_estimators=100, random_state=42)\n",
    "rfr.fit(x_train, y_train)\n",
    "\n",
    "y_pred=rfr.predict(x_test)\n",
    "y_pred\n",
    "mae = mean_absolute_error(y_test, y_pred)\n",
    "mse = mean_squared_error(y_test, y_pred)\n",
    "print(f'Mean Absolute Error: {mae:.2f}')\n",
    "print(f'Mean Squared Error: {mse:.2f}')"
   ]
  },
  {
   "cell_type": "markdown",
   "metadata": {},
   "source": [
    "##### 4.4 XGBoost Regressor"
   ]
  },
  {
   "cell_type": "code",
   "execution_count": 126,
   "metadata": {},
   "outputs": [
    {
     "name": "stdout",
     "output_type": "stream",
     "text": [
      "Mean Absolute Error: 0.32\n",
      "Mean Squared Error: 0.15\n"
     ]
    }
   ],
   "source": [
    "xgb = XGBRegressor()\n",
    "xgb.fit(x_train, y_train)\n",
    "\n",
    "y_pred=xgb.predict(x_test)\n",
    "y_pred\n",
    "mae = mean_absolute_error(y_test, y_pred)\n",
    "mse = mean_squared_error(y_test, y_pred)\n",
    "print(f'Mean Absolute Error: {mae:.2f}')\n",
    "print(f'Mean Squared Error: {mse:.2f}')\n"
   ]
  },
  {
   "cell_type": "markdown",
   "metadata": {},
   "source": [
    "##### 4.5 Ridge Regressor Model"
   ]
  },
  {
   "cell_type": "code",
   "execution_count": 127,
   "metadata": {},
   "outputs": [
    {
     "name": "stdout",
     "output_type": "stream",
     "text": [
      "Mean Absolute Error: 0.29\n",
      "Mean Squared Error: 0.11\n"
     ]
    }
   ],
   "source": [
    "ridge_reg = Ridge(alpha=1.0)\n",
    "ridge_reg.fit(x_train, y_train)\n",
    "\n",
    "\n",
    "y_pred = ridge_reg.predict(x_test)\n",
    "y_pred\n",
    "mae = mean_absolute_error(y_test, y_pred)\n",
    "mse = mean_squared_error(y_test, y_pred)\n",
    "print(f'Mean Absolute Error: {mae:.2f}')\n",
    "print(f'Mean Squared Error: {mse:.2f}')"
   ]
  },
  {
   "cell_type": "markdown",
   "metadata": {},
   "source": [
    "##### 4.6 Bagging Regressor Model"
   ]
  },
  {
   "cell_type": "code",
   "execution_count": 128,
   "metadata": {},
   "outputs": [
    {
     "name": "stdout",
     "output_type": "stream",
     "text": [
      "Mean Absolute Error: 0.31\n",
      "Mean Squared Error: 0.14\n"
     ]
    }
   ],
   "source": [
    "bagging_reg = BaggingRegressor(DecisionTreeRegressor(), n_estimators=10, random_state=42)\n",
    "bagging_reg.fit(x_train, y_train)\n",
    "\n",
    "y_pred = bagging_reg.predict(x_test)\n",
    "y_pred\n",
    "mae = mean_absolute_error(y_test, y_pred)\n",
    "mse = mean_squared_error(y_test, y_pred)\n",
    "print(f'Mean Absolute Error: {mae:.2f}')\n",
    "print(f'Mean Squared Error: {mse:.2f}')"
   ]
  },
  {
   "cell_type": "markdown",
   "metadata": {},
   "source": [
    "##### 4.7 Deep Neural Networks"
   ]
  },
  {
   "cell_type": "code",
   "execution_count": 129,
   "metadata": {},
   "outputs": [],
   "source": [
    "model = keras.Sequential([\n",
    "        keras.layers.Dense(128, activation='relu', input_shape=(X.shape[1],)),\n",
    "        keras.layers.Dense(64, activation='relu'),\n",
    "        keras.layers.Dense(1, activation='sigmoid')\n",
    "    ])"
   ]
  },
  {
   "cell_type": "code",
   "execution_count": 130,
   "metadata": {},
   "outputs": [],
   "source": [
    "model.compile(optimizer='adam', loss='mean_absolute_error')"
   ]
  },
  {
   "cell_type": "code",
   "execution_count": 131,
   "metadata": {},
   "outputs": [
    {
     "name": "stdout",
     "output_type": "stream",
     "text": [
      "Epoch 1/10\n",
      "35/35 - 1s - loss: 1.6339 - val_loss: 1.6225 - 693ms/epoch - 20ms/step\n",
      "Epoch 2/10\n",
      "35/35 - 0s - loss: 1.6262 - val_loss: 1.6224 - 63ms/epoch - 2ms/step\n",
      "Epoch 3/10\n",
      "35/35 - 0s - loss: 1.6261 - val_loss: 1.6223 - 84ms/epoch - 2ms/step\n",
      "Epoch 4/10\n",
      "35/35 - 0s - loss: 1.6261 - val_loss: 1.6223 - 78ms/epoch - 2ms/step\n",
      "Epoch 5/10\n",
      "35/35 - 0s - loss: 1.6261 - val_loss: 1.6223 - 79ms/epoch - 2ms/step\n",
      "Epoch 6/10\n",
      "35/35 - 0s - loss: 1.6261 - val_loss: 1.6223 - 63ms/epoch - 2ms/step\n",
      "Epoch 7/10\n",
      "35/35 - 0s - loss: 1.6261 - val_loss: 1.6223 - 78ms/epoch - 2ms/step\n",
      "Epoch 8/10\n",
      "35/35 - 0s - loss: 1.6261 - val_loss: 1.6223 - 78ms/epoch - 2ms/step\n",
      "Epoch 9/10\n",
      "35/35 - 0s - loss: 1.6261 - val_loss: 1.6223 - 79ms/epoch - 2ms/step\n",
      "Epoch 10/10\n",
      "35/35 - 0s - loss: 1.6261 - val_loss: 1.6223 - 98ms/epoch - 3ms/step\n"
     ]
    },
    {
     "data": {
      "text/plain": [
       "<keras.src.callbacks.History at 0x1bc1b652c90>"
      ]
     },
     "execution_count": 131,
     "metadata": {},
     "output_type": "execute_result"
    }
   ],
   "source": [
    "model.fit(x_train, y_train, epochs=10, batch_size=16, validation_split=0.2, verbose=2)"
   ]
  },
  {
   "cell_type": "code",
   "execution_count": 132,
   "metadata": {},
   "outputs": [
    {
     "name": "stdout",
     "output_type": "stream",
     "text": [
      "10/10 [==============================] - 0s 2ms/step\n"
     ]
    }
   ],
   "source": [
    "predictions = model.predict(x_test)"
   ]
  },
  {
   "cell_type": "code",
   "execution_count": 133,
   "metadata": {},
   "outputs": [
    {
     "name": "stdout",
     "output_type": "stream",
     "text": [
      "Mean Absolute Error on Test Set: 1.61\n"
     ]
    }
   ],
   "source": [
    "mae = mean_absolute_error(y_test, predictions)\n",
    "print(f'Mean Absolute Error on Test Set: {mae:.2f}')"
   ]
  },
  {
   "cell_type": "code",
   "execution_count": 134,
   "metadata": {},
   "outputs": [
    {
     "name": "stdout",
     "output_type": "stream",
     "text": [
      "Mean Squared Error on Test Set: 0.14\n"
     ]
    }
   ],
   "source": [
    "mae = mean_squared_error(y_test, predictions)\n",
    "print(f'Mean Squared Error on Test Set: {mse:.2f}')"
   ]
  }
 ],
 "metadata": {
  "kernelspec": {
   "display_name": "Python 3",
   "language": "python",
   "name": "python3"
  },
  "language_info": {
   "codemirror_mode": {
    "name": "ipython",
    "version": 3
   },
   "file_extension": ".py",
   "mimetype": "text/x-python",
   "name": "python",
   "nbconvert_exporter": "python",
   "pygments_lexer": "ipython3",
   "version": "3.11.0"
  }
 },
 "nbformat": 4,
 "nbformat_minor": 2
}
